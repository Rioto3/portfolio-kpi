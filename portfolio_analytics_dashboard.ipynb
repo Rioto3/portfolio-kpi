{
  "nbformat": 4,
  "nbformat_minor": 0,
  "metadata": {
    "colab": {
      "provenance": [],
      "authorship_tag": "ABX9TyOadoklX2XKXWZwUtOZ6edE",
      "include_colab_link": true
    },
    "kernelspec": {
      "name": "python3",
      "display_name": "Python 3"
    },
    "language_info": {
      "name": "python"
    }
  },
  "cells": [
    {
      "cell_type": "markdown",
      "metadata": {
        "id": "view-in-github",
        "colab_type": "text"
      },
      "source": [
        "<a href=\"https://colab.research.google.com/github/Rioto3/portfolio-kpi/blob/feature%2Fanalytics-dashboard/portfolio_analytics_dashboard.ipynb\" target=\"_parent\"><img src=\"https://colab.research.google.com/assets/colab-badge.svg\" alt=\"Open In Colab\"/></a>"
      ]
    },
    {
      "cell_type": "code",
      "execution_count": null,
      "metadata": {
        "colab": {
          "base_uri": "https://localhost:8080/"
        },
        "id": "mBMt9gP2Kznw",
        "outputId": "2a90b71b-5394-4547-e2aa-99d2c801c974"
      },
      "outputs": [
        {
          "output_type": "stream",
          "name": "stdout",
          "text": [
            "Requirement already satisfied: pandas in /usr/local/lib/python3.11/dist-packages (2.2.2)\n",
            "Requirement already satisfied: numpy>=1.23.2 in /usr/local/lib/python3.11/dist-packages (from pandas) (1.26.4)\n",
            "Requirement already satisfied: python-dateutil>=2.8.2 in /usr/local/lib/python3.11/dist-packages (from pandas) (2.8.2)\n",
            "Requirement already satisfied: pytz>=2020.1 in /usr/local/lib/python3.11/dist-packages (from pandas) (2025.1)\n",
            "Requirement already satisfied: tzdata>=2022.7 in /usr/local/lib/python3.11/dist-packages (from pandas) (2025.1)\n",
            "Requirement already satisfied: six>=1.5 in /usr/local/lib/python3.11/dist-packages (from python-dateutil>=2.8.2->pandas) (1.17.0)\n",
            "Requirement already satisfied: plotly in /usr/local/lib/python3.11/dist-packages (5.24.1)\n",
            "Requirement already satisfied: tenacity>=6.2.0 in /usr/local/lib/python3.11/dist-packages (from plotly) (9.0.0)\n",
            "Requirement already satisfied: packaging in /usr/local/lib/python3.11/dist-packages (from plotly) (24.2)\n"
          ]
        }
      ],
      "source": [
        "# 必要なライブラリ\n",
        "!pip install pandas\n",
        "!pip install plotly\n",
        "from google.cloud import bigquery\n",
        "import pandas as pd\n",
        "import plotly.express as px"
      ]
    },
    {
      "cell_type": "code",
      "source": [
        "# ユニークビジター\n",
        "visitor_query = \"\"\"\n",
        "SELECT\n",
        "  DATE(timestamp) as date,\n",
        "  COUNT(DISTINCT user_pseudo_id) as unique_visitors\n",
        "FROM `digital-portfolio-analytics-bq.analytics_449733397287.events_*`\n",
        "GROUP BY date\n",
        "ORDER BY date DESC\n",
        "\"\"\"\n",
        "\n",
        "# 滞在時間\n",
        "session_query = \"\"\"\n",
        "SELECT\n",
        "  DATE(timestamp) as date,\n",
        "  AVG(session_duration) as avg_duration\n",
        "FROM `digital-portfolio-analytics-bq.analytics_449733397287.events_*`\n",
        "GROUP BY date\n",
        "ORDER BY date DESC\n",
        "\"\"\""
      ],
      "metadata": {
        "id": "Af9a7WeYK7Zm"
      },
      "execution_count": null,
      "outputs": []
    },
    {
      "cell_type": "code",
      "source": [],
      "metadata": {
        "id": "mZs3y6B8QNV7"
      },
      "execution_count": null,
      "outputs": []
    }
  ]
}