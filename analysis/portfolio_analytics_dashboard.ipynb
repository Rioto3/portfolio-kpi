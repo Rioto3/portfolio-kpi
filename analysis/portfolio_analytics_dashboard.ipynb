{
  "cells": [
    {
      "cell_type": "markdown",
      "metadata": {
        "id": "view-in-github",
        "colab_type": "text"
      },
      "source": [
        "<a href=\"https://colab.research.google.com/github/Rioto3/portfolio-kpi/blob/feature%2Fanalytics-dashboard/analysis/portfolio_analytics_dashboard.ipynb\" target=\"_parent\"><img src=\"https://colab.research.google.com/assets/colab-badge.svg\" alt=\"Open In Colab\"/></a>"
      ]
    },
    {
      "cell_type": "code",
      "execution_count": null,
      "metadata": {
        "colab": {
          "base_uri": "https://localhost:8080/"
        },
        "id": "mBMt9gP2Kznw",
        "outputId": "2a90b71b-5394-4547-e2aa-99d2c801c974"
      },
      "outputs": [
        {
          "name": "stdout",
          "output_type": "stream",
          "text": [
            "Requirement already satisfied: pandas in /usr/local/lib/python3.11/dist-packages (2.2.2)\n",
            "Requirement already satisfied: numpy>=1.23.2 in /usr/local/lib/python3.11/dist-packages (from pandas) (1.26.4)\n",
            "Requirement already satisfied: python-dateutil>=2.8.2 in /usr/local/lib/python3.11/dist-packages (from pandas) (2.8.2)\n",
            "Requirement already satisfied: pytz>=2020.1 in /usr/local/lib/python3.11/dist-packages (from pandas) (2025.1)\n",
            "Requirement already satisfied: tzdata>=2022.7 in /usr/local/lib/python3.11/dist-packages (from pandas) (2025.1)\n",
            "Requirement already satisfied: six>=1.5 in /usr/local/lib/python3.11/dist-packages (from python-dateutil>=2.8.2->pandas) (1.17.0)\n",
            "Requirement already satisfied: plotly in /usr/local/lib/python3.11/dist-packages (5.24.1)\n",
            "Requirement already satisfied: tenacity>=6.2.0 in /usr/local/lib/python3.11/dist-packages (from plotly) (9.0.0)\n",
            "Requirement already satisfied: packaging in /usr/local/lib/python3.11/dist-packages (from plotly) (24.2)\n"
          ]
        }
      ],
      "source": [
        "# 必要なライブラリ\n",
        "!pip install pandas\n",
        "!pip install plotly\n",
        "from google.cloud import bigquery\n",
        "import pandas as pd\n",
        "import plotly.express as px\n"
      ]
    },
    {
      "cell_type": "code",
      "execution_count": null,
      "metadata": {
        "id": "Af9a7WeYK7Zm"
      },
      "outputs": [],
      "source": [
        "# 1. 基本的なページビュー分析\n",
        "page_views_query = \"\"\"\n",
        "SELECT\n",
        "    DATE(timestamp) as date,\n",
        "    COUNT(*) as pageviews,\n",
        "    COUNT(DISTINCT user_pseudo_id) as unique_visitors,\n",
        "    COUNT(*) / COUNT(DISTINCT user_pseudo_id) as pages_per_visitor\n",
        "FROM `digital-portfolio-analytics-bq.analytics_449733397287.events_*`\n",
        "WHERE event_name = 'page_view'\n",
        "GROUP BY date\n",
        "ORDER BY date DESC\n",
        "\"\"\"\n",
        "\n",
        "# 2. セッション分析\n",
        "session_analysis_query = \"\"\"\n",
        "SELECT\n",
        "    DATE(timestamp) as date,\n",
        "    COUNT(DISTINCT session_id) as total_sessions,\n",
        "    AVG(engagement_time_msec) / 1000 as avg_session_duration_sec\n",
        "FROM `digital-portfolio-analytics-bq.analytics_449733397287.events_*`\n",
        "GROUP BY date\n",
        "ORDER BY date DESC\n",
        "\"\"\"\n",
        "\n",
        "# 3. ユーザー行動分析\n",
        "user_behavior_query = \"\"\"\n",
        "SELECT\n",
        "    DATE(timestamp) as date,\n",
        "    page_location,\n",
        "    COUNT(*) as page_views,\n",
        "    COUNT(DISTINCT user_pseudo_id) as unique_visitors,\n",
        "    AVG(engagement_time_msec) / 1000 as avg_time_on_page_sec\n",
        "FROM `digital-portfolio-analytics-bq.analytics_449733397287.events_*`\n",
        "WHERE event_name = 'page_view'\n",
        "GROUP BY date, page_location\n",
        "ORDER BY date DESC, page_views DESC\n",
        "\"\"\"\n",
        "\n",
        "# 4. 地域別アクセス分析\n",
        "location_analysis_query = \"\"\"\n",
        "SELECT\n",
        "    country,\n",
        "    city,\n",
        "    COUNT(DISTINCT user_pseudo_id) as unique_visitors,\n",
        "    COUNT(*) as total_events\n",
        "FROM `digital-portfolio-analytics-bq.analytics_449733397287.events_*`\n",
        "GROUP BY country, city\n",
        "ORDER BY unique_visitors DESC\n",
        "\"\"\"\n",
        "\n",
        "# データ取得用の共通関数\n",
        "def fetch_data(query):\n",
        "    return pd.read_gbq(query, project_id='digital-portfolio-analytics-bq')\n",
        "\n",
        "# 可視化用の関数群\n",
        "def plot_time_series(df, x_col, y_col, title):\n",
        "    fig = px.line(df, x=x_col, y=y_col, title=title)\n",
        "    fig.show()\n",
        "\n",
        "def plot_bar(df, x_col, y_col, title):\n",
        "    fig = px.bar(df, x=x_col, y=y_col, title=title)\n",
        "    fig.show()\n",
        "\n",
        "def create_summary_dashboard(df_page_views, df_sessions):\n",
        "    # メイン指標のサマリー\n",
        "    total_visitors = df_page_views['unique_visitors'].sum()\n",
        "    total_pageviews = df_page_views['pageviews'].sum()\n",
        "    avg_session_duration = df_sessions['avg_session_duration_sec'].mean()\n",
        "\n",
        "    print(f\"総訪問者数: {total_visitors}\")\n",
        "    print(f\"総ページビュー: {total_pageviews}\")\n",
        "    print(f\"平均セッション時間: {avg_session_duration:.2f}秒\")\n",
        "\n",
        "# 分析実行例\n",
        "\"\"\"\n",
        "# データ取得\n",
        "df_page_views = fetch_data(page_views_query)\n",
        "df_sessions = fetch_data(session_analysis_query)\n",
        "df_behavior = fetch_data(user_behavior_query)\n",
        "df_location = fetch_data(location_analysis_query)\n",
        "\n",
        "# ダッシュボード生成\n",
        "create_summary_dashboard(df_page_views, df_sessions)\n",
        "\n",
        "# トレンド可視化\n",
        "plot_time_series(df_page_views, 'date', 'unique_visitors', '日別ユニークビジター数')\n",
        "plot_time_series(df_page_views, 'date', 'pageviews', '日別ページビュー数')\n",
        "plot_time_series(df_sessions, 'date', 'avg_session_duration_sec', '平均セッション時間の推移')\n",
        "\"\"\""
      ]
    },
    {
      "cell_type": "code",
      "execution_count": null,
      "metadata": {
        "id": "mZs3y6B8QNV7"
      },
      "outputs": [],
      "source": []
    }
  ],
  "metadata": {
    "colab": {
      "provenance": [],
      "include_colab_link": true
    },
    "kernelspec": {
      "display_name": "Python 3",
      "name": "python3"
    },
    "language_info": {
      "name": "python"
    }
  },
  "nbformat": 4,
  "nbformat_minor": 0
}